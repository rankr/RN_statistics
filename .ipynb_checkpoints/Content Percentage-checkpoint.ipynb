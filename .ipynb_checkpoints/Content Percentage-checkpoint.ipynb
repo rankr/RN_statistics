{
 "cells": [
  {
   "cell_type": "code",
   "execution_count": null,
   "metadata": {},
   "outputs": [],
   "source": [
    "# 本文件用于统计武健宇给的文件中，不同类别(feature, fix, ...)在不同领域出现的比例是否一致\n",
    "# 目前某些领域数量过少，不足以进行统计"
   ]
  },
  {
   "cell_type": "code",
   "execution_count": 2,
   "metadata": {},
   "outputs": [],
   "source": [
    "import csv"
   ]
  },
  {
   "cell_type": "code",
   "execution_count": 26,
   "metadata": {},
   "outputs": [],
   "source": [
    "path = \"../Domain_W.csv\"\n",
    "data = csv.reader(open(path))\n",
    "assert(data)\n",
    "\n",
    "content_type = [\"feature\", \"fix\", \"enhancement\", \"api change\", \"documentation\", \"dependency\", \"test\"]\n",
    "ct2index = {\"feature\": 18, \"fix\": 19, \"enhancement\": 20, \"api change\": 21, \"documentation\": 22, \"dependency\": 23, \"test\": 24}\n",
    "project_type_index = 3\n",
    "\n",
    "content = []\n",
    "for i in data:\n",
    "    content.append(i)\n",
    "\n",
    "head = content[0]\n",
    "content = content[1:]"
   ]
  },
  {
   "cell_type": "code",
   "execution_count": 27,
   "metadata": {},
   "outputs": [],
   "source": [
    "project_num = len(content)\n",
    "project_type_list = set([x[project_type_index] for x in content if x != \"Documentation\"])\n",
    "pt2typenum = {pt:{y:0 for y in content_type} for pt in project_type_list} # project type TO amount of each content type of release note\n",
    "pt2num = {pt:0 for pt in project_type_list} # project type TO amount of it\n",
    "\n",
    "for row in content:\n",
    "    pt = row[project_type_index]\n",
    "    pt2num[pt] += 1\n",
    "    for ct in content_type:\n",
    "        if row[ct2index[ct]] == 1:\n",
    "            pt2typenum[pt][ct] += 1\n",
    "    "
   ]
  },
  {
   "cell_type": "code",
   "execution_count": 28,
   "metadata": {},
   "outputs": [
    {
     "data": {
      "text/plain": [
       "{'Web libraries and frameworks': 34,\n",
       " 'Documentation': 1,\n",
       " 'Software tools': 9,\n",
       " 'System software': 3,\n",
       " 'Application software': 6,\n",
       " 'Non-web libraries and frameworks': 2}"
      ]
     },
     "execution_count": 28,
     "metadata": {},
     "output_type": "execute_result"
    }
   ],
   "source": [
    "pt2num #大部分类别数量太少以至于目前结果无用，不足以避免误差"
   ]
  },
  {
   "cell_type": "code",
   "execution_count": null,
   "metadata": {},
   "outputs": [],
   "source": []
  }
 ],
 "metadata": {
  "kernelspec": {
   "display_name": "Python 3",
   "language": "python",
   "name": "python3"
  },
  "language_info": {
   "codemirror_mode": {
    "name": "ipython",
    "version": 3
   },
   "file_extension": ".py",
   "mimetype": "text/x-python",
   "name": "python",
   "nbconvert_exporter": "python",
   "pygments_lexer": "ipython3",
   "version": "3.7.1"
  }
 },
 "nbformat": 4,
 "nbformat_minor": 2
}
